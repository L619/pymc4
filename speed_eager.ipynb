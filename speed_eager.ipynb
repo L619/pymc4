{
 "cells": [
  {
   "cell_type": "code",
   "execution_count": 2,
   "metadata": {},
   "outputs": [
    {
     "name": "stdout",
     "output_type": "stream",
     "text": [
      "The autoreload extension is already loaded. To reload it, use:\n",
      "  %reload_ext autoreload\n"
     ]
    }
   ],
   "source": [
    "%load_ext autoreload\n",
    "%autoreload 2"
   ]
  },
  {
   "cell_type": "code",
   "execution_count": 3,
   "metadata": {},
   "outputs": [],
   "source": [
    "import numpy as np"
   ]
  },
  {
   "cell_type": "code",
   "execution_count": 4,
   "metadata": {},
   "outputs": [],
   "source": [
    "import pymc4 as pm\n",
    "import tensorflow as tf\n",
    "import numpy as np\n",
    "import matplotlib.pyplot as plt"
   ]
  },
  {
   "cell_type": "markdown",
   "metadata": {},
   "source": [
    "## Eager"
   ]
  },
  {
   "cell_type": "code",
   "execution_count": 5,
   "metadata": {},
   "outputs": [],
   "source": [
    "@pm.model(auto_name=True)\n",
    "def t_test():\n",
    "    mu = pm.Normal(0, 1)\n",
    "    sd = pm.HalfNormal(1)\n",
    "    x1 = pm.Normal(0, 2 * sd)\n",
    "    x2 = pm.Normal(mu, 2 * sd)\n",
    "\n",
    "model = t_test.configure()\n",
    "\n",
    "model._forward_context.vars\n",
    "func = model.make_log_prob_function()"
   ]
  },
  {
   "cell_type": "code",
   "execution_count": 6,
   "metadata": {},
   "outputs": [
    {
     "name": "stdout",
     "output_type": "stream",
     "text": [
      "8.17 ms ± 283 µs per loop (mean ± std. dev. of 7 runs, 100 loops each)\n"
     ]
    },
    {
     "data": {
      "text/plain": [
       "<tf.Tensor: id=290153, shape=(), dtype=float32, numpy=-inf>"
      ]
     },
     "execution_count": 6,
     "metadata": {},
     "output_type": "execute_result"
    }
   ],
   "source": [
    "mu = tf.ones((10,))\n",
    "sd = tf.ones((10,))\n",
    "y_0 = tf.ones((10,))\n",
    "y_1 = tf.ones((10,))\n",
    "%timeit logp = func(mu, sd, y_0, y_1)\n",
    "func(mu, sd, y_0, y_1)"
   ]
  },
  {
   "cell_type": "code",
   "execution_count": 7,
   "metadata": {},
   "outputs": [],
   "source": [
    "logp_func_defun = tf.function(func)"
   ]
  },
  {
   "cell_type": "code",
   "execution_count": 8,
   "metadata": {},
   "outputs": [],
   "source": [
    "mu = tf.ones((10,))\n",
    "sd = tf.ones((10,))\n",
    "y_0 = tf.ones((10,))\n",
    "y_1 = tf.ones((10,))"
   ]
  },
  {
   "cell_type": "code",
   "execution_count": 9,
   "metadata": {},
   "outputs": [
    {
     "name": "stdout",
     "output_type": "stream",
     "text": [
      "214 µs ± 23 µs per loop (mean ± std. dev. of 7 runs, 1000 loops each)\n"
     ]
    },
    {
     "data": {
      "text/plain": [
       "<tf.Tensor: id=298547, shape=(), dtype=float32, numpy=-inf>"
      ]
     },
     "execution_count": 9,
     "metadata": {},
     "output_type": "execute_result"
    }
   ],
   "source": [
    "logp_func_defun(mu, sd, y_0, y_1) # warmup\n",
    "%timeit logp = logp_func_defun(mu, sd, y_0, y_1)\n",
    "logp_func_defun(mu, sd, y_0, y_1)"
   ]
  },
  {
   "cell_type": "code",
   "execution_count": 10,
   "metadata": {},
   "outputs": [
    {
     "name": "stdout",
     "output_type": "stream",
     "text": [
      "871 µs ± 67.3 µs per loop (mean ± std. dev. of 7 runs, 1000 loops each)\n"
     ]
    }
   ],
   "source": [
    "%%timeit\n",
    "with tf.GradientTape() as tape:\n",
    "    tape.watch(mu)\n",
    "    tape.watch(sd)\n",
    "    tape.watch(y_0)\n",
    "    tape.watch(y_1)\n",
    "    logp = logp_func_defun(mu, sd, y_0, y_1)\n",
    "\n",
    "tape.gradient(logp, [mu, sd, y_0, y_1])"
   ]
  },
  {
   "cell_type": "code",
   "execution_count": 30,
   "metadata": {},
   "outputs": [
    {
     "data": {
      "text/plain": [
       "(<tf.Tensor: id=304683, shape=(), dtype=float32, numpy=-80.2917>,\n",
       " [<tf.Tensor: id=304684, shape=(40,), dtype=float32, numpy=\n",
       "  array([ -0.1       ,  -0.1       ,  -0.1       ,  -0.1       ,\n",
       "          -0.1       ,  -0.1       ,  -0.1       ,  -0.1       ,\n",
       "          -0.1       ,  -0.1       , -10.970653  , -10.970653  ,\n",
       "         -10.970653  , -10.970653  , -10.970653  , -10.970653  ,\n",
       "         -10.970653  , -10.970653  , -10.970653  , -10.970653  ,\n",
       "          -0.02046827,  -0.02046827,  -0.02046827,  -0.02046827,\n",
       "          -0.02046827,  -0.02046827,  -0.02046827,  -0.02046827,\n",
       "          -0.02046827,  -0.02046827,   0.        ,   0.        ,\n",
       "           0.        ,   0.        ,   0.        ,   0.        ,\n",
       "           0.        ,   0.        ,   0.        ,   0.        ],\n",
       "        dtype=float32)>])"
      ]
     },
     "execution_count": 30,
     "metadata": {},
     "output_type": "execute_result"
    }
   ],
   "source": [
    "def logp_and_grad(*args):\n",
    "    logp = func(*args)\n",
    "    return logp, tf.gradients(logp, args)\n",
    "\n",
    "logp_grad_func_defun = tf.function(logp_and_grad)\n",
    "\n",
    "array = tf.ones(40) * .1\n",
    "\n",
    "@tf.function\n",
    "def logp_wrapper(array):\n",
    "    mu = array[:10]\n",
    "    sd = array[10:20]\n",
    "    y_0 = array[20:30]\n",
    "    y_1 = array[30:40]\n",
    "    logp = func(mu, sd, y_0, y_1)\n",
    "    grad = tf.gradients(logp, array)\n",
    "    return logp, grad\n",
    "\n",
    "#logp_grad_func_defun(mu, sd, y_0, y_1) # warump \n",
    "#%timeit logp = logp_grad_func_defun(mu, sd, y_0, y_1)\n",
    "logp_grad_func_defun(mu, sd, y_0, y_1)\n",
    "logp_wrapper(array)"
   ]
  },
  {
   "cell_type": "code",
   "execution_count": 11,
   "metadata": {},
   "outputs": [],
   "source": [
    "from pymc4._hmc import HamiltonianMC"
   ]
  },
  {
   "cell_type": "code",
   "execution_count": 54,
   "metadata": {},
   "outputs": [],
   "source": [
    "hmc = HamiltonianMC(logp_dlogp_func=logp_wrapper, size=40)"
   ]
  },
  {
   "cell_type": "code",
   "execution_count": null,
   "metadata": {},
   "outputs": [],
   "source": [
    "curr = array\n",
    "trace = []\n",
    "stats = []\n",
    "for i in range(500):\n",
    "    curr, stat = hmc.step(curr)\n",
    "    trace.append(curr)\n",
    "    stats.append(stat)"
   ]
  },
  {
   "cell_type": "code",
   "execution_count": null,
   "metadata": {},
   "outputs": [],
   "source": []
  },
  {
   "cell_type": "code",
   "execution_count": 17,
   "metadata": {},
   "outputs": [],
   "source": [
    "from tensorflow.contrib.compiler import xla"
   ]
  },
  {
   "cell_type": "code",
   "execution_count": 20,
   "metadata": {},
   "outputs": [
    {
     "ename": "ValueError",
     "evalue": "When eager execution is enabled, use_resource cannot be set to false.",
     "output_type": "error",
     "traceback": [
      "\u001b[0;31m---------------------------------------------------------------------------\u001b[0m",
      "\u001b[0;31mValueError\u001b[0m                                Traceback (most recent call last)",
      "\u001b[0;32m<ipython-input-20-a6153cd41805>\u001b[0m in \u001b[0;36m<module>\u001b[0;34m()\u001b[0m\n\u001b[1;32m     17\u001b[0m     \u001b[0;32mreturn\u001b[0m \u001b[0mlogp\u001b[0m\u001b[0;34m,\u001b[0m \u001b[0mgrad\u001b[0m\u001b[0;34m\u001b[0m\u001b[0;34m\u001b[0m\u001b[0m\n\u001b[1;32m     18\u001b[0m \u001b[0;34m\u001b[0m\u001b[0m\n\u001b[0;32m---> 19\u001b[0;31m \u001b[0mlogp_wrapper_xla\u001b[0m\u001b[0;34m(\u001b[0m\u001b[0marray\u001b[0m\u001b[0;34m)\u001b[0m\u001b[0;34m\u001b[0m\u001b[0;34m\u001b[0m\u001b[0m\n\u001b[0m",
      "\u001b[0;32m<ipython-input-20-a6153cd41805>\u001b[0m in \u001b[0;36mlogp_wrapper_xla\u001b[0;34m(array)\u001b[0m\n\u001b[1;32m     14\u001b[0m \u001b[0;31m#@tf.function\u001b[0m\u001b[0;34m\u001b[0m\u001b[0;34m\u001b[0m\u001b[0;34m\u001b[0m\u001b[0m\n\u001b[1;32m     15\u001b[0m \u001b[0;32mdef\u001b[0m \u001b[0mlogp_wrapper_xla\u001b[0m\u001b[0;34m(\u001b[0m\u001b[0marray\u001b[0m\u001b[0;34m)\u001b[0m\u001b[0;34m:\u001b[0m\u001b[0;34m\u001b[0m\u001b[0;34m\u001b[0m\u001b[0m\n\u001b[0;32m---> 16\u001b[0;31m     \u001b[0mlogp\u001b[0m\u001b[0;34m,\u001b[0m \u001b[0mgrad\u001b[0m \u001b[0;34m=\u001b[0m \u001b[0mxla\u001b[0m\u001b[0;34m.\u001b[0m\u001b[0mcompile\u001b[0m\u001b[0;34m(\u001b[0m\u001b[0mlogp_wrapper\u001b[0m\u001b[0;34m,\u001b[0m \u001b[0minputs\u001b[0m\u001b[0;34m=\u001b[0m\u001b[0;34m[\u001b[0m\u001b[0marray\u001b[0m\u001b[0;34m]\u001b[0m\u001b[0;34m)\u001b[0m\u001b[0;34m\u001b[0m\u001b[0;34m\u001b[0m\u001b[0m\n\u001b[0m\u001b[1;32m     17\u001b[0m     \u001b[0;32mreturn\u001b[0m \u001b[0mlogp\u001b[0m\u001b[0;34m,\u001b[0m \u001b[0mgrad\u001b[0m\u001b[0;34m\u001b[0m\u001b[0;34m\u001b[0m\u001b[0m\n\u001b[1;32m     18\u001b[0m \u001b[0;34m\u001b[0m\u001b[0m\n",
      "\u001b[0;32m~/anaconda3/lib/python3.6/site-packages/tensorflow/contrib/compiler/xla.py\u001b[0m in \u001b[0;36mcompile\u001b[0;34m(computation, inputs)\u001b[0m\n\u001b[1;32m     96\u001b[0m   \"\"\"\n\u001b[1;32m     97\u001b[0m   \u001b[0;31m# pylint: disable=protected-access\u001b[0m\u001b[0;34m\u001b[0m\u001b[0;34m\u001b[0m\u001b[0;34m\u001b[0m\u001b[0m\n\u001b[0;32m---> 98\u001b[0;31m   \u001b[0;32mreturn\u001b[0m \u001b[0m_compile_internal\u001b[0m\u001b[0;34m(\u001b[0m\u001b[0mcomputation\u001b[0m\u001b[0;34m,\u001b[0m \u001b[0minputs\u001b[0m\u001b[0;34m)\u001b[0m\u001b[0;34m\u001b[0m\u001b[0;34m\u001b[0m\u001b[0m\n\u001b[0m\u001b[1;32m     99\u001b[0m \u001b[0;34m\u001b[0m\u001b[0m\n\u001b[1;32m    100\u001b[0m \u001b[0;34m\u001b[0m\u001b[0m\n",
      "\u001b[0;32m~/anaconda3/lib/python3.6/site-packages/tensorflow/contrib/compiler/xla.py\u001b[0m in \u001b[0;36m_compile_internal\u001b[0;34m(computation, inputs)\u001b[0m\n\u001b[1;32m    341\u001b[0m \u001b[0;34m\u001b[0m\u001b[0m\n\u001b[1;32m    342\u001b[0m     \u001b[0;31m# Restore variable scope after computation.\u001b[0m\u001b[0;34m\u001b[0m\u001b[0;34m\u001b[0m\u001b[0;34m\u001b[0m\u001b[0m\n\u001b[0;32m--> 343\u001b[0;31m     \u001b[0mvscope\u001b[0m\u001b[0;34m.\u001b[0m\u001b[0mset_use_resource\u001b[0m\u001b[0;34m(\u001b[0m\u001b[0msaved_use_resource\u001b[0m\u001b[0;34m)\u001b[0m\u001b[0;34m\u001b[0m\u001b[0;34m\u001b[0m\u001b[0m\n\u001b[0m\u001b[1;32m    344\u001b[0m \u001b[0;34m\u001b[0m\u001b[0m\n\u001b[1;32m    345\u001b[0m     \u001b[0moutputs_is_flat\u001b[0m \u001b[0;34m=\u001b[0m \u001b[0mis_flat\u001b[0m\u001b[0;34m(\u001b[0m\u001b[0moutputs\u001b[0m\u001b[0;34m)\u001b[0m\u001b[0;34m\u001b[0m\u001b[0;34m\u001b[0m\u001b[0m\n",
      "\u001b[0;32m~/anaconda3/lib/python3.6/site-packages/tensorflow/python/ops/variable_scope.py\u001b[0m in \u001b[0;36mset_use_resource\u001b[0;34m(self, use_resource)\u001b[0m\n\u001b[1;32m   1131\u001b[0m     \u001b[0;34m\"\"\"Sets whether to use ResourceVariables for this scope.\"\"\"\u001b[0m\u001b[0;34m\u001b[0m\u001b[0;34m\u001b[0m\u001b[0m\n\u001b[1;32m   1132\u001b[0m     \u001b[0;32mif\u001b[0m \u001b[0mcontext\u001b[0m\u001b[0;34m.\u001b[0m\u001b[0mexecuting_eagerly\u001b[0m\u001b[0;34m(\u001b[0m\u001b[0;34m)\u001b[0m \u001b[0;32mand\u001b[0m \u001b[0;32mnot\u001b[0m \u001b[0muse_resource\u001b[0m\u001b[0;34m:\u001b[0m\u001b[0;34m\u001b[0m\u001b[0;34m\u001b[0m\u001b[0m\n\u001b[0;32m-> 1133\u001b[0;31m       raise ValueError(\"When eager execution is enabled, \"\n\u001b[0m\u001b[1;32m   1134\u001b[0m                        \"use_resource cannot be set to false.\")\n\u001b[1;32m   1135\u001b[0m     \u001b[0mself\u001b[0m\u001b[0;34m.\u001b[0m\u001b[0m_use_resource\u001b[0m \u001b[0;34m=\u001b[0m \u001b[0muse_resource\u001b[0m\u001b[0;34m\u001b[0m\u001b[0;34m\u001b[0m\u001b[0m\n",
      "\u001b[0;31mValueError\u001b[0m: When eager execution is enabled, use_resource cannot be set to false."
     ]
    }
   ],
   "source": [
    "# Doesn't work\n",
    "array = tf.ones(40)\n",
    "\n",
    "@tf.function\n",
    "def logp_wrapper(array):\n",
    "    mu = array[:10]\n",
    "    sd = array[10:20]\n",
    "    y_0 = array[20:30]\n",
    "    y_1 = array[30:40]\n",
    "    logp = func(mu, sd, y_0, y_1)\n",
    "    grad = tf.gradients(logp, array)\n",
    "    return logp, grad\n",
    "\n",
    "#@tf.function\n",
    "def logp_wrapper_xla(array):\n",
    "    logp, grad = xla.compile(logp_wrapper, inputs=[array])\n",
    "    return logp, grad\n",
    "\n",
    "logp_wrapper_xla(array)"
   ]
  },
  {
   "cell_type": "code",
   "execution_count": null,
   "metadata": {},
   "outputs": [],
   "source": [
    "%timeit logp_wrapper(array)"
   ]
  },
  {
   "cell_type": "markdown",
   "metadata": {},
   "source": [
    "## Comparison to PyMC3"
   ]
  },
  {
   "cell_type": "code",
   "execution_count": null,
   "metadata": {},
   "outputs": [],
   "source": [
    "import pymc3 as pm3"
   ]
  },
  {
   "cell_type": "code",
   "execution_count": null,
   "metadata": {},
   "outputs": [],
   "source": [
    "with pm3.Model() as model:\n",
    "    mu = pm3.Normal('mu', 0, 1, shape=10)\n",
    "    sd = pm3.HalfNormal('sd', sd=1, transform=None, shape=10)\n",
    "    pm3.Normal('y_0', 0, 2 * sd, shape=10)\n",
    "    pm3.Normal('y_1', mu, 2 * sd, shape=10)"
   ]
  },
  {
   "cell_type": "code",
   "execution_count": null,
   "metadata": {},
   "outputs": [],
   "source": [
    "func_pm3 = model.logp_dlogp_function()"
   ]
  },
  {
   "cell_type": "code",
   "execution_count": null,
   "metadata": {},
   "outputs": [],
   "source": [
    "x0 = np.ones(func_pm3.size)"
   ]
  },
  {
   "cell_type": "code",
   "execution_count": null,
   "metadata": {},
   "outputs": [],
   "source": [
    "func_pm3.set_extra_values({})\n",
    "%timeit func_pm3(x0)"
   ]
  }
 ],
 "metadata": {
  "kernelspec": {
   "display_name": "Python 3",
   "language": "python",
   "name": "python3"
  },
  "language_info": {
   "codemirror_mode": {
    "name": "ipython",
    "version": 3
   },
   "file_extension": ".py",
   "mimetype": "text/x-python",
   "name": "python",
   "nbconvert_exporter": "python",
   "pygments_lexer": "ipython3",
   "version": "3.6.7"
  }
 },
 "nbformat": 4,
 "nbformat_minor": 2
}
